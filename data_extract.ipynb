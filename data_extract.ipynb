{
 "cells": [
  {
   "cell_type": "markdown",
   "metadata": {},
   "source": [
    "# Reading Data from csv file and doing basic data manipulation"
   ]
  },
  {
   "cell_type": "code",
   "execution_count": 1,
   "metadata": {},
   "outputs": [],
   "source": [
    "import pandas as pd\n",
    "df = pd.read_csv(\"1.csv\", index_col=0)"
   ]
  },
  {
   "cell_type": "markdown",
   "metadata": {},
   "source": [
    "## Get data for individual Trips"
   ]
  },
  {
   "cell_type": "code",
   "execution_count": 39,
   "metadata": {},
   "outputs": [],
   "source": [
    "for tripID in set(df['tripID'].values):\n",
    "    df_trip = df[df['tripID']==tripID]"
   ]
  },
  {
   "cell_type": "markdown",
   "metadata": {},
   "source": [
    "## Converting Raw ECompass data to engineering units"
   ]
  },
  {
   "cell_type": "code",
   "execution_count": 40,
   "metadata": {},
   "outputs": [
    {
     "name": "stderr",
     "output_type": "stream",
     "text": [
      "C:\\Miniconda3\\lib\\site-packages\\ipykernel_launcher.py:21: SettingWithCopyWarning: \n",
      "A value is trying to be set on a copy of a slice from a DataFrame.\n",
      "Try using .loc[row_indexer,col_indexer] = value instead\n",
      "\n",
      "See the caveats in the documentation: http://pandas.pydata.org/pandas-docs/stable/indexing.html#indexing-view-versus-copy\n"
     ]
    }
   ],
   "source": [
    "import numpy as np\n",
    "# Convert Accelerometer reading to g units, 8bit data with a range of +-2g #\n",
    "def convert_acc(x):\n",
    "    x = int(x,16)\n",
    "    if x>127:\n",
    "        x = x-256\n",
    "    return np.float64(x*2/128)\n",
    "\n",
    "# Convert a single row of Accelerometer data to engineering units and return a df #\n",
    "def convert_acc_row(row):\n",
    "    # Initially the data was gathered without magnetometer, so check length for identification #\n",
    "    data_list = []\n",
    "    for i in range(0, len(row), 6):\n",
    "        x = convert_acc(row[i:i+2])\n",
    "        y = convert_acc(row[i+2:i+4])\n",
    "        z = convert_acc(row[i+4:i+6])\n",
    "        \n",
    "        data_list.append([x,y,z])\n",
    "    return pd.DataFrame(columns=['ax','ay','az'], data=data_list)\n",
    "\n",
    "df_trip['accData'] = df_trip['accData'].apply(convert_acc_row)\n",
    "# Drop the values for first second as the data is not collected completely #\n",
    "df_trip = df_trip.reset_index(drop=True)\n",
    "df_trip = df_trip.drop(0).reset_index(drop=True)"
   ]
  },
  {
   "cell_type": "markdown",
   "metadata": {},
   "source": [
    "### Calculating Rotation Matrix for vehicle"
   ]
  },
  {
   "cell_type": "code",
   "execution_count": 37,
   "metadata": {},
   "outputs": [],
   "source": [
    "# We need data for the device when the vehicle is static #\n",
    "[mx,my,mz] = df_trip[['mx', 'my', 'mz']][df_trip['speed'] <= 1].mean().tolist()\n",
    "[x,y,z] = df_trip['accData'][df_trip['speed'] <= 1].iloc[0].mean().tolist()\n",
    "\n",
    "import math\n",
    "phi = math.atan(y/z)\n",
    "theta = math.atan(-x/(y*math.sin(phi)+z*math.cos(phi)))\n",
    "psi = math.atan((mz*math.sin(phi) - my*math.cos(phi))/(mx*math.cos(theta) + my*math.sin(theta)*math.sin(phi) + mz*math.sin(theta)*math.cos(phi)))\n",
    "\n",
    "Rx = np.array([[1,0,0], [0,math.cos(phi),math.sin(phi)], [0,-math.sin(phi),math.cos(phi)]])\n",
    "Ry = np.array([[math.cos(theta),0,-math.sin(theta)], [0,1,0], [math.sin(theta),0,math.cos(theta)]])\n",
    "Rz = np.array([[math.cos(phi),math.sin(phi),0], [-math.sin(phi),math.cos(phi),0], [0,0,1]])\n",
    "\n",
    "R = Rx.dot(Ry).dot(Rz)\n",
    "R = np.linalg.inv(R)"
   ]
  },
  {
   "cell_type": "markdown",
   "metadata": {},
   "source": [
    "### Rotate Accelerometer values"
   ]
  },
  {
   "cell_type": "code",
   "execution_count": 52,
   "metadata": {},
   "outputs": [
    {
     "data": {
      "text/html": [
       "<div>\n",
       "<style scoped>\n",
       "    .dataframe tbody tr th:only-of-type {\n",
       "        vertical-align: middle;\n",
       "    }\n",
       "\n",
       "    .dataframe tbody tr th {\n",
       "        vertical-align: top;\n",
       "    }\n",
       "\n",
       "    .dataframe thead th {\n",
       "        text-align: right;\n",
       "    }\n",
       "</style>\n",
       "<table border=\"1\" class=\"dataframe\">\n",
       "  <thead>\n",
       "    <tr style=\"text-align: right;\">\n",
       "      <th></th>\n",
       "      <th>ax</th>\n",
       "      <th>ay</th>\n",
       "      <th>az</th>\n",
       "    </tr>\n",
       "  </thead>\n",
       "  <tbody>\n",
       "    <tr>\n",
       "      <th>0</th>\n",
       "      <td>0.015834</td>\n",
       "      <td>0.029995</td>\n",
       "      <td>1.002595</td>\n",
       "    </tr>\n",
       "    <tr>\n",
       "      <th>1</th>\n",
       "      <td>0.013017</td>\n",
       "      <td>0.021109</td>\n",
       "      <td>1.022630</td>\n",
       "    </tr>\n",
       "    <tr>\n",
       "      <th>2</th>\n",
       "      <td>0.024872</td>\n",
       "      <td>0.006861</td>\n",
       "      <td>1.042350</td>\n",
       "    </tr>\n",
       "    <tr>\n",
       "      <th>3</th>\n",
       "      <td>0.021468</td>\n",
       "      <td>0.047767</td>\n",
       "      <td>0.962526</td>\n",
       "    </tr>\n",
       "    <tr>\n",
       "      <th>4</th>\n",
       "      <td>-0.036071</td>\n",
       "      <td>-0.023454</td>\n",
       "      <td>1.044706</td>\n",
       "    </tr>\n",
       "    <tr>\n",
       "      <th>5</th>\n",
       "      <td>-0.031269</td>\n",
       "      <td>-0.056458</td>\n",
       "      <td>1.055114</td>\n",
       "    </tr>\n",
       "    <tr>\n",
       "      <th>6</th>\n",
       "      <td>-0.019280</td>\n",
       "      <td>-0.023880</td>\n",
       "      <td>1.059064</td>\n",
       "    </tr>\n",
       "    <tr>\n",
       "      <th>7</th>\n",
       "      <td>0.042496</td>\n",
       "      <td>0.057212</td>\n",
       "      <td>1.006230</td>\n",
       "    </tr>\n",
       "    <tr>\n",
       "      <th>8</th>\n",
       "      <td>0.015113</td>\n",
       "      <td>0.032961</td>\n",
       "      <td>0.918507</td>\n",
       "    </tr>\n",
       "    <tr>\n",
       "      <th>9</th>\n",
       "      <td>-0.029017</td>\n",
       "      <td>-0.004697</td>\n",
       "      <td>1.054017</td>\n",
       "    </tr>\n",
       "    <tr>\n",
       "      <th>10</th>\n",
       "      <td>-0.038189</td>\n",
       "      <td>-0.028389</td>\n",
       "      <td>1.030033</td>\n",
       "    </tr>\n",
       "    <tr>\n",
       "      <th>11</th>\n",
       "      <td>-0.013779</td>\n",
       "      <td>-0.052934</td>\n",
       "      <td>1.034765</td>\n",
       "    </tr>\n",
       "    <tr>\n",
       "      <th>12</th>\n",
       "      <td>0.015967</td>\n",
       "      <td>0.076821</td>\n",
       "      <td>0.986825</td>\n",
       "    </tr>\n",
       "    <tr>\n",
       "      <th>13</th>\n",
       "      <td>0.010199</td>\n",
       "      <td>0.012223</td>\n",
       "      <td>1.042664</td>\n",
       "    </tr>\n",
       "    <tr>\n",
       "      <th>14</th>\n",
       "      <td>0.010199</td>\n",
       "      <td>0.012223</td>\n",
       "      <td>1.042664</td>\n",
       "    </tr>\n",
       "    <tr>\n",
       "      <th>15</th>\n",
       "      <td>-0.043258</td>\n",
       "      <td>-0.089037</td>\n",
       "      <td>1.051165</td>\n",
       "    </tr>\n",
       "    <tr>\n",
       "      <th>16</th>\n",
       "      <td>-0.009409</td>\n",
       "      <td>0.003763</td>\n",
       "      <td>1.048341</td>\n",
       "    </tr>\n",
       "    <tr>\n",
       "      <th>17</th>\n",
       "      <td>0.027690</td>\n",
       "      <td>0.015748</td>\n",
       "      <td>1.022315</td>\n",
       "    </tr>\n",
       "    <tr>\n",
       "      <th>18</th>\n",
       "      <td>0.021468</td>\n",
       "      <td>0.047767</td>\n",
       "      <td>0.962526</td>\n",
       "    </tr>\n",
       "    <tr>\n",
       "      <th>19</th>\n",
       "      <td>-0.018581</td>\n",
       "      <td>-0.019929</td>\n",
       "      <td>1.024357</td>\n",
       "    </tr>\n",
       "    <tr>\n",
       "      <th>20</th>\n",
       "      <td>-0.026334</td>\n",
       "      <td>-0.042637</td>\n",
       "      <td>1.049753</td>\n",
       "    </tr>\n",
       "    <tr>\n",
       "      <th>21</th>\n",
       "      <td>-0.006725</td>\n",
       "      <td>-0.034177</td>\n",
       "      <td>1.044076</td>\n",
       "    </tr>\n",
       "    <tr>\n",
       "      <th>22</th>\n",
       "      <td>0.034743</td>\n",
       "      <td>0.034505</td>\n",
       "      <td>1.031626</td>\n",
       "    </tr>\n",
       "    <tr>\n",
       "      <th>23</th>\n",
       "      <td>-0.006725</td>\n",
       "      <td>-0.034177</td>\n",
       "      <td>1.044076</td>\n",
       "    </tr>\n",
       "    <tr>\n",
       "      <th>24</th>\n",
       "      <td>0.025571</td>\n",
       "      <td>0.010812</td>\n",
       "      <td>1.007642</td>\n",
       "    </tr>\n",
       "  </tbody>\n",
       "</table>\n",
       "</div>"
      ],
      "text/plain": [
       "          ax        ay        az\n",
       "0   0.015834  0.029995  1.002595\n",
       "1   0.013017  0.021109  1.022630\n",
       "2   0.024872  0.006861  1.042350\n",
       "3   0.021468  0.047767  0.962526\n",
       "4  -0.036071 -0.023454  1.044706\n",
       "5  -0.031269 -0.056458  1.055114\n",
       "6  -0.019280 -0.023880  1.059064\n",
       "7   0.042496  0.057212  1.006230\n",
       "8   0.015113  0.032961  0.918507\n",
       "9  -0.029017 -0.004697  1.054017\n",
       "10 -0.038189 -0.028389  1.030033\n",
       "11 -0.013779 -0.052934  1.034765\n",
       "12  0.015967  0.076821  0.986825\n",
       "13  0.010199  0.012223  1.042664\n",
       "14  0.010199  0.012223  1.042664\n",
       "15 -0.043258 -0.089037  1.051165\n",
       "16 -0.009409  0.003763  1.048341\n",
       "17  0.027690  0.015748  1.022315\n",
       "18  0.021468  0.047767  0.962526\n",
       "19 -0.018581 -0.019929  1.024357\n",
       "20 -0.026334 -0.042637  1.049753\n",
       "21 -0.006725 -0.034177  1.044076\n",
       "22  0.034743  0.034505  1.031626\n",
       "23 -0.006725 -0.034177  1.044076\n",
       "24  0.025571  0.010812  1.007642"
      ]
     },
     "execution_count": 52,
     "metadata": {},
     "output_type": "execute_result"
    }
   ],
   "source": [
    "def rotate_acc(row):\n",
    "    A = np.array([[row['ax']], [row['ay']], [row['az']]])\n",
    "    B = np.dot(R,A)\n",
    "    x,y,z = B[:,0]\n",
    "    return [x,y,z]\n",
    "\n",
    "\n",
    "acc_sample = df_trip['accData'].iloc[0]\n",
    "acc_sample.apply(rotate_acc, axis=1)"
   ]
  },
  {
   "cell_type": "markdown",
   "metadata": {},
   "source": [
    "## Storing DataFrame in hdf file"
   ]
  },
  {
   "cell_type": "code",
   "execution_count": 28,
   "metadata": {},
   "outputs": [
    {
     "name": "stderr",
     "output_type": "stream",
     "text": [
      "C:\\Miniconda3\\lib\\site-packages\\pandas\\core\\generic.py:1471: PerformanceWarning: \n",
      "your performance may suffer as PyTables will pickle object types that it cannot\n",
      "map directly to c-types [inferred_type->mixed,key->block2_values] [items->['timeStamp', 'accData']]\n",
      "\n",
      "  return pytables.to_hdf(path_or_buf, key, self, **kwargs)\n"
     ]
    }
   ],
   "source": [
    "df.to_hdf(\"data.hdf5\", \"first\")"
   ]
  },
  {
   "cell_type": "code",
   "execution_count": null,
   "metadata": {},
   "outputs": [],
   "source": []
  }
 ],
 "metadata": {
  "kernelspec": {
   "display_name": "Python 3",
   "language": "python",
   "name": "python3"
  },
  "language_info": {
   "codemirror_mode": {
    "name": "ipython",
    "version": 3
   },
   "file_extension": ".py",
   "mimetype": "text/x-python",
   "name": "python",
   "nbconvert_exporter": "python",
   "pygments_lexer": "ipython3",
   "version": "3.6.4"
  }
 },
 "nbformat": 4,
 "nbformat_minor": 2
}
