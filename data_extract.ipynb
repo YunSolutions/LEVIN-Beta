{
 "cells": [
  {
   "cell_type": "markdown",
   "metadata": {},
   "source": [
    "# Reading Data from csv file and doing basic data manipulation"
   ]
  },
  {
   "cell_type": "code",
   "execution_count": 22,
   "metadata": {},
   "outputs": [],
   "source": [
    "import pandas as pd\n",
    "df = pd.read_csv(\"1.csv\", index_col=0)"
   ]
  },
  {
   "cell_type": "markdown",
   "metadata": {},
   "source": [
    "## Get data for individual Trips"
   ]
  },
  {
   "cell_type": "code",
   "execution_count": 23,
   "metadata": {},
   "outputs": [],
   "source": [
    "for tripID in set(df['tripID'].values):\n",
    "    df_trip = df[df['tripID']==tripID]"
   ]
  },
  {
   "cell_type": "markdown",
   "metadata": {},
   "source": [
    "## Converting Raw ECompass data to engineering units"
   ]
  },
  {
   "cell_type": "code",
   "execution_count": 24,
   "metadata": {},
   "outputs": [],
   "source": [
    "import numpy as np\n",
    "# Convert Accelerometer reading to g units, 8bit data with a range of +-2g #\n",
    "def convert_acc(x):\n",
    "    x = int(x,16)\n",
    "    if x>127:\n",
    "        x = x-256\n",
    "    return np.float64(x*2/128)\n",
    "\n",
    "# Convert a single row of Accelerometer data to engineering units and return a df #\n",
    "def convert_acc_row(row):\n",
    "    # Initially the data was gathered without magnetometer, so check length for identification #\n",
    "    data_list = []\n",
    "    for i in range(0, len(row), 6):\n",
    "        x = convert_acc(row[i:i+2])\n",
    "        y = convert_acc(row[i+2:i+4])\n",
    "        z = convert_acc(row[i+4:i+6])\n",
    "        \n",
    "        data_list.append([x,y,z])\n",
    "    return pd.DataFrame(columns=['ax','ay','az'], data=data_list)\n",
    "\n",
    "df['accData'] = df['accData'].apply(convert_acc_row)\n",
    "print(df['accData'].loc[0])"
   ]
  },
  {
   "cell_type": "markdown",
   "metadata": {},
   "source": [
    "## Storing DataFrame in hdf file"
   ]
  },
  {
   "cell_type": "code",
   "execution_count": 28,
   "metadata": {},
   "outputs": [
    {
     "name": "stderr",
     "output_type": "stream",
     "text": [
      "C:\\Miniconda3\\lib\\site-packages\\pandas\\core\\generic.py:1471: PerformanceWarning: \n",
      "your performance may suffer as PyTables will pickle object types that it cannot\n",
      "map directly to c-types [inferred_type->mixed,key->block2_values] [items->['timeStamp', 'accData']]\n",
      "\n",
      "  return pytables.to_hdf(path_or_buf, key, self, **kwargs)\n"
     ]
    }
   ],
   "source": [
    "df.to_hdf(\"data.hdf5\", \"first\")"
   ]
  },
  {
   "cell_type": "code",
   "execution_count": null,
   "metadata": {},
   "outputs": [],
   "source": []
  }
 ],
 "metadata": {
  "kernelspec": {
   "display_name": "Python 3",
   "language": "python",
   "name": "python3"
  },
  "language_info": {
   "codemirror_mode": {
    "name": "ipython",
    "version": 3
   },
   "file_extension": ".py",
   "mimetype": "text/x-python",
   "name": "python",
   "nbconvert_exporter": "python",
   "pygments_lexer": "ipython3",
   "version": "3.6.4"
  }
 },
 "nbformat": 4,
 "nbformat_minor": 2
}
